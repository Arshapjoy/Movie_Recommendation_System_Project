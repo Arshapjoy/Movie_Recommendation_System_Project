{
  "nbformat": 4,
  "nbformat_minor": 0,
  "metadata": {
    "colab": {
      "provenance": [],
      "mount_file_id": "1JoeLd51roZ3Kq8Zc8udm10XnmBqS_yRF",
      "authorship_tag": "ABX9TyOxsxt9cazjfAok70lq9SpQ",
      "include_colab_link": true
    },
    "kernelspec": {
      "name": "python3",
      "display_name": "Python 3"
    },
    "language_info": {
      "name": "python"
    }
  },
  "cells": [
    {
      "cell_type": "markdown",
      "metadata": {
        "id": "view-in-github",
        "colab_type": "text"
      },
      "source": [
        "<a href=\"https://colab.research.google.com/github/Arshapjoy/Movie_Recommendation_System_Project/blob/main/notebooks/3_rec_system.ipynb\" target=\"_parent\"><img src=\"https://colab.research.google.com/assets/colab-badge.svg\" alt=\"Open In Colab\"/></a>"
      ]
    },
    {
      "cell_type": "code",
      "execution_count": 1,
      "metadata": {
        "id": "MONGIVGx_JH9"
      },
      "outputs": [],
      "source": [
        "import pandas as pd\n",
        "import numpy as np\n"
      ]
    },
    {
      "cell_type": "code",
      "source": [
        "\n",
        "combined_df=pd.read_csv(\"/content/drive/MyDrive/MCA_project/Final/combined_cleaned.csv\")"
      ],
      "metadata": {
        "id": "8nUX2FXB_cZM"
      },
      "execution_count": 2,
      "outputs": []
    },
    {
      "cell_type": "code",
      "source": [
        "combined_df.head()"
      ],
      "metadata": {
        "colab": {
          "base_uri": "https://localhost:8080/",
          "height": 573
        },
        "id": "JWNpFFcsAmVl",
        "outputId": "1e0d547d-d601-4a46-f898-932de8354998"
      },
      "execution_count": 3,
      "outputs": [
        {
          "output_type": "execute_result",
          "data": {
            "text/plain": [
              "            id       title  audienceScore  tomatoMeter   rating  \\\n",
              "0    love_lies  Love, Lies           43.0    66.920339  Unknown   \n",
              "1    love_lies  Love, Lies           43.0    66.920339  Unknown   \n",
              "2  adrift_2018      Adrift           65.0    69.000000    PG-13   \n",
              "3  adrift_2018      Adrift           65.0    69.000000    PG-13   \n",
              "4  adrift_2018      Adrift           65.0    69.000000    PG-13   \n",
              "\n",
              "                                      ratingContents  runtimeMinutes  \\\n",
              "0                                            Unknown           120.0   \n",
              "1                                            Unknown           120.0   \n",
              "2  ['Injury Images', 'Brief Drug Use', 'Thematic ...           120.0   \n",
              "3  ['Injury Images', 'Brief Drug Use', 'Thematic ...           120.0   \n",
              "4  ['Injury Images', 'Brief Drug Use', 'Thematic ...           120.0   \n",
              "\n",
              "                               genre originalLanguage  \\\n",
              "0                          ['drama']           Korean   \n",
              "1                          ['drama']           Korean   \n",
              "2  ['adventure', 'drama', 'romance']          English   \n",
              "3  ['adventure', 'drama', 'romance']          English   \n",
              "4  ['adventure', 'drama', 'romance']          English   \n",
              "\n",
              "                        director  \\\n",
              "0  Park Heung-Sik,Heung-Sik Park   \n",
              "1  Park Heung-Sik,Heung-Sik Park   \n",
              "2              Baltasar Kormákur   \n",
              "3              Baltasar Kormákur   \n",
              "4              Baltasar Kormákur   \n",
              "\n",
              "                                             writer distributor     reviewId  \\\n",
              "0            Ha Young-Joon,Jeon Yun-su,Song Hye-jin     Unknown    2739073.0   \n",
              "1            Ha Young-Joon,Jeon Yun-su,Song Hye-jin     Unknown    2333658.0   \n",
              "2  Aaron Kandell,Jordan Kandell,David Branson Smith   STX Films  102694850.0   \n",
              "3  Aaron Kandell,Jordan Kandell,David Branson Smith   STX Films    2816011.0   \n",
              "4  Aaron Kandell,Jordan Kandell,David Branson Smith   STX Films    2772153.0   \n",
              "\n",
              "                                          reviewText scoreSentiment  \\\n",
              "0  Though let down by its routine love triangle n...       POSITIVE   \n",
              "1  While not perfect, Love, Lies is a worthy disc...       POSITIVE   \n",
              "2  This is nowhere near the level of other great ...       POSITIVE   \n",
              "3  For almost the entire runtime, the only people...       NEGATIVE   \n",
              "4  What is meant to be a voyage of self-discovery...       NEGATIVE   \n",
              "\n",
              "   originalScore_normalized  \n",
              "0                       8.0  \n",
              "1                       7.0  \n",
              "2                       6.0  \n",
              "3                       7.0  \n",
              "4                       4.0  "
            ],
            "text/html": [
              "\n",
              "  <div id=\"df-25c16105-f51d-483d-8c7d-1abc58416205\" class=\"colab-df-container\">\n",
              "    <div>\n",
              "<style scoped>\n",
              "    .dataframe tbody tr th:only-of-type {\n",
              "        vertical-align: middle;\n",
              "    }\n",
              "\n",
              "    .dataframe tbody tr th {\n",
              "        vertical-align: top;\n",
              "    }\n",
              "\n",
              "    .dataframe thead th {\n",
              "        text-align: right;\n",
              "    }\n",
              "</style>\n",
              "<table border=\"1\" class=\"dataframe\">\n",
              "  <thead>\n",
              "    <tr style=\"text-align: right;\">\n",
              "      <th></th>\n",
              "      <th>id</th>\n",
              "      <th>title</th>\n",
              "      <th>audienceScore</th>\n",
              "      <th>tomatoMeter</th>\n",
              "      <th>rating</th>\n",
              "      <th>ratingContents</th>\n",
              "      <th>runtimeMinutes</th>\n",
              "      <th>genre</th>\n",
              "      <th>originalLanguage</th>\n",
              "      <th>director</th>\n",
              "      <th>writer</th>\n",
              "      <th>distributor</th>\n",
              "      <th>reviewId</th>\n",
              "      <th>reviewText</th>\n",
              "      <th>scoreSentiment</th>\n",
              "      <th>originalScore_normalized</th>\n",
              "    </tr>\n",
              "  </thead>\n",
              "  <tbody>\n",
              "    <tr>\n",
              "      <th>0</th>\n",
              "      <td>love_lies</td>\n",
              "      <td>Love, Lies</td>\n",
              "      <td>43.0</td>\n",
              "      <td>66.920339</td>\n",
              "      <td>Unknown</td>\n",
              "      <td>Unknown</td>\n",
              "      <td>120.0</td>\n",
              "      <td>['drama']</td>\n",
              "      <td>Korean</td>\n",
              "      <td>Park Heung-Sik,Heung-Sik Park</td>\n",
              "      <td>Ha Young-Joon,Jeon Yun-su,Song Hye-jin</td>\n",
              "      <td>Unknown</td>\n",
              "      <td>2739073.0</td>\n",
              "      <td>Though let down by its routine love triangle n...</td>\n",
              "      <td>POSITIVE</td>\n",
              "      <td>8.0</td>\n",
              "    </tr>\n",
              "    <tr>\n",
              "      <th>1</th>\n",
              "      <td>love_lies</td>\n",
              "      <td>Love, Lies</td>\n",
              "      <td>43.0</td>\n",
              "      <td>66.920339</td>\n",
              "      <td>Unknown</td>\n",
              "      <td>Unknown</td>\n",
              "      <td>120.0</td>\n",
              "      <td>['drama']</td>\n",
              "      <td>Korean</td>\n",
              "      <td>Park Heung-Sik,Heung-Sik Park</td>\n",
              "      <td>Ha Young-Joon,Jeon Yun-su,Song Hye-jin</td>\n",
              "      <td>Unknown</td>\n",
              "      <td>2333658.0</td>\n",
              "      <td>While not perfect, Love, Lies is a worthy disc...</td>\n",
              "      <td>POSITIVE</td>\n",
              "      <td>7.0</td>\n",
              "    </tr>\n",
              "    <tr>\n",
              "      <th>2</th>\n",
              "      <td>adrift_2018</td>\n",
              "      <td>Adrift</td>\n",
              "      <td>65.0</td>\n",
              "      <td>69.000000</td>\n",
              "      <td>PG-13</td>\n",
              "      <td>['Injury Images', 'Brief Drug Use', 'Thematic ...</td>\n",
              "      <td>120.0</td>\n",
              "      <td>['adventure', 'drama', 'romance']</td>\n",
              "      <td>English</td>\n",
              "      <td>Baltasar Kormákur</td>\n",
              "      <td>Aaron Kandell,Jordan Kandell,David Branson Smith</td>\n",
              "      <td>STX Films</td>\n",
              "      <td>102694850.0</td>\n",
              "      <td>This is nowhere near the level of other great ...</td>\n",
              "      <td>POSITIVE</td>\n",
              "      <td>6.0</td>\n",
              "    </tr>\n",
              "    <tr>\n",
              "      <th>3</th>\n",
              "      <td>adrift_2018</td>\n",
              "      <td>Adrift</td>\n",
              "      <td>65.0</td>\n",
              "      <td>69.000000</td>\n",
              "      <td>PG-13</td>\n",
              "      <td>['Injury Images', 'Brief Drug Use', 'Thematic ...</td>\n",
              "      <td>120.0</td>\n",
              "      <td>['adventure', 'drama', 'romance']</td>\n",
              "      <td>English</td>\n",
              "      <td>Baltasar Kormákur</td>\n",
              "      <td>Aaron Kandell,Jordan Kandell,David Branson Smith</td>\n",
              "      <td>STX Films</td>\n",
              "      <td>2816011.0</td>\n",
              "      <td>For almost the entire runtime, the only people...</td>\n",
              "      <td>NEGATIVE</td>\n",
              "      <td>7.0</td>\n",
              "    </tr>\n",
              "    <tr>\n",
              "      <th>4</th>\n",
              "      <td>adrift_2018</td>\n",
              "      <td>Adrift</td>\n",
              "      <td>65.0</td>\n",
              "      <td>69.000000</td>\n",
              "      <td>PG-13</td>\n",
              "      <td>['Injury Images', 'Brief Drug Use', 'Thematic ...</td>\n",
              "      <td>120.0</td>\n",
              "      <td>['adventure', 'drama', 'romance']</td>\n",
              "      <td>English</td>\n",
              "      <td>Baltasar Kormákur</td>\n",
              "      <td>Aaron Kandell,Jordan Kandell,David Branson Smith</td>\n",
              "      <td>STX Films</td>\n",
              "      <td>2772153.0</td>\n",
              "      <td>What is meant to be a voyage of self-discovery...</td>\n",
              "      <td>NEGATIVE</td>\n",
              "      <td>4.0</td>\n",
              "    </tr>\n",
              "  </tbody>\n",
              "</table>\n",
              "</div>\n",
              "    <div class=\"colab-df-buttons\">\n",
              "\n",
              "  <div class=\"colab-df-container\">\n",
              "    <button class=\"colab-df-convert\" onclick=\"convertToInteractive('df-25c16105-f51d-483d-8c7d-1abc58416205')\"\n",
              "            title=\"Convert this dataframe to an interactive table.\"\n",
              "            style=\"display:none;\">\n",
              "\n",
              "  <svg xmlns=\"http://www.w3.org/2000/svg\" height=\"24px\" viewBox=\"0 -960 960 960\">\n",
              "    <path d=\"M120-120v-720h720v720H120Zm60-500h600v-160H180v160Zm220 220h160v-160H400v160Zm0 220h160v-160H400v160ZM180-400h160v-160H180v160Zm440 0h160v-160H620v160ZM180-180h160v-160H180v160Zm440 0h160v-160H620v160Z\"/>\n",
              "  </svg>\n",
              "    </button>\n",
              "\n",
              "  <style>\n",
              "    .colab-df-container {\n",
              "      display:flex;\n",
              "      gap: 12px;\n",
              "    }\n",
              "\n",
              "    .colab-df-convert {\n",
              "      background-color: #E8F0FE;\n",
              "      border: none;\n",
              "      border-radius: 50%;\n",
              "      cursor: pointer;\n",
              "      display: none;\n",
              "      fill: #1967D2;\n",
              "      height: 32px;\n",
              "      padding: 0 0 0 0;\n",
              "      width: 32px;\n",
              "    }\n",
              "\n",
              "    .colab-df-convert:hover {\n",
              "      background-color: #E2EBFA;\n",
              "      box-shadow: 0px 1px 2px rgba(60, 64, 67, 0.3), 0px 1px 3px 1px rgba(60, 64, 67, 0.15);\n",
              "      fill: #174EA6;\n",
              "    }\n",
              "\n",
              "    .colab-df-buttons div {\n",
              "      margin-bottom: 4px;\n",
              "    }\n",
              "\n",
              "    [theme=dark] .colab-df-convert {\n",
              "      background-color: #3B4455;\n",
              "      fill: #D2E3FC;\n",
              "    }\n",
              "\n",
              "    [theme=dark] .colab-df-convert:hover {\n",
              "      background-color: #434B5C;\n",
              "      box-shadow: 0px 1px 3px 1px rgba(0, 0, 0, 0.15);\n",
              "      filter: drop-shadow(0px 1px 2px rgba(0, 0, 0, 0.3));\n",
              "      fill: #FFFFFF;\n",
              "    }\n",
              "  </style>\n",
              "\n",
              "    <script>\n",
              "      const buttonEl =\n",
              "        document.querySelector('#df-25c16105-f51d-483d-8c7d-1abc58416205 button.colab-df-convert');\n",
              "      buttonEl.style.display =\n",
              "        google.colab.kernel.accessAllowed ? 'block' : 'none';\n",
              "\n",
              "      async function convertToInteractive(key) {\n",
              "        const element = document.querySelector('#df-25c16105-f51d-483d-8c7d-1abc58416205');\n",
              "        const dataTable =\n",
              "          await google.colab.kernel.invokeFunction('convertToInteractive',\n",
              "                                                    [key], {});\n",
              "        if (!dataTable) return;\n",
              "\n",
              "        const docLinkHtml = 'Like what you see? Visit the ' +\n",
              "          '<a target=\"_blank\" href=https://colab.research.google.com/notebooks/data_table.ipynb>data table notebook</a>'\n",
              "          + ' to learn more about interactive tables.';\n",
              "        element.innerHTML = '';\n",
              "        dataTable['output_type'] = 'display_data';\n",
              "        await google.colab.output.renderOutput(dataTable, element);\n",
              "        const docLink = document.createElement('div');\n",
              "        docLink.innerHTML = docLinkHtml;\n",
              "        element.appendChild(docLink);\n",
              "      }\n",
              "    </script>\n",
              "  </div>\n",
              "\n",
              "\n",
              "<div id=\"df-8371141b-0152-414c-9eb8-19cd13fc1984\">\n",
              "  <button class=\"colab-df-quickchart\" onclick=\"quickchart('df-8371141b-0152-414c-9eb8-19cd13fc1984')\"\n",
              "            title=\"Suggest charts\"\n",
              "            style=\"display:none;\">\n",
              "\n",
              "<svg xmlns=\"http://www.w3.org/2000/svg\" height=\"24px\"viewBox=\"0 0 24 24\"\n",
              "     width=\"24px\">\n",
              "    <g>\n",
              "        <path d=\"M19 3H5c-1.1 0-2 .9-2 2v14c0 1.1.9 2 2 2h14c1.1 0 2-.9 2-2V5c0-1.1-.9-2-2-2zM9 17H7v-7h2v7zm4 0h-2V7h2v10zm4 0h-2v-4h2v4z\"/>\n",
              "    </g>\n",
              "</svg>\n",
              "  </button>\n",
              "\n",
              "<style>\n",
              "  .colab-df-quickchart {\n",
              "      --bg-color: #E8F0FE;\n",
              "      --fill-color: #1967D2;\n",
              "      --hover-bg-color: #E2EBFA;\n",
              "      --hover-fill-color: #174EA6;\n",
              "      --disabled-fill-color: #AAA;\n",
              "      --disabled-bg-color: #DDD;\n",
              "  }\n",
              "\n",
              "  [theme=dark] .colab-df-quickchart {\n",
              "      --bg-color: #3B4455;\n",
              "      --fill-color: #D2E3FC;\n",
              "      --hover-bg-color: #434B5C;\n",
              "      --hover-fill-color: #FFFFFF;\n",
              "      --disabled-bg-color: #3B4455;\n",
              "      --disabled-fill-color: #666;\n",
              "  }\n",
              "\n",
              "  .colab-df-quickchart {\n",
              "    background-color: var(--bg-color);\n",
              "    border: none;\n",
              "    border-radius: 50%;\n",
              "    cursor: pointer;\n",
              "    display: none;\n",
              "    fill: var(--fill-color);\n",
              "    height: 32px;\n",
              "    padding: 0;\n",
              "    width: 32px;\n",
              "  }\n",
              "\n",
              "  .colab-df-quickchart:hover {\n",
              "    background-color: var(--hover-bg-color);\n",
              "    box-shadow: 0 1px 2px rgba(60, 64, 67, 0.3), 0 1px 3px 1px rgba(60, 64, 67, 0.15);\n",
              "    fill: var(--button-hover-fill-color);\n",
              "  }\n",
              "\n",
              "  .colab-df-quickchart-complete:disabled,\n",
              "  .colab-df-quickchart-complete:disabled:hover {\n",
              "    background-color: var(--disabled-bg-color);\n",
              "    fill: var(--disabled-fill-color);\n",
              "    box-shadow: none;\n",
              "  }\n",
              "\n",
              "  .colab-df-spinner {\n",
              "    border: 2px solid var(--fill-color);\n",
              "    border-color: transparent;\n",
              "    border-bottom-color: var(--fill-color);\n",
              "    animation:\n",
              "      spin 1s steps(1) infinite;\n",
              "  }\n",
              "\n",
              "  @keyframes spin {\n",
              "    0% {\n",
              "      border-color: transparent;\n",
              "      border-bottom-color: var(--fill-color);\n",
              "      border-left-color: var(--fill-color);\n",
              "    }\n",
              "    20% {\n",
              "      border-color: transparent;\n",
              "      border-left-color: var(--fill-color);\n",
              "      border-top-color: var(--fill-color);\n",
              "    }\n",
              "    30% {\n",
              "      border-color: transparent;\n",
              "      border-left-color: var(--fill-color);\n",
              "      border-top-color: var(--fill-color);\n",
              "      border-right-color: var(--fill-color);\n",
              "    }\n",
              "    40% {\n",
              "      border-color: transparent;\n",
              "      border-right-color: var(--fill-color);\n",
              "      border-top-color: var(--fill-color);\n",
              "    }\n",
              "    60% {\n",
              "      border-color: transparent;\n",
              "      border-right-color: var(--fill-color);\n",
              "    }\n",
              "    80% {\n",
              "      border-color: transparent;\n",
              "      border-right-color: var(--fill-color);\n",
              "      border-bottom-color: var(--fill-color);\n",
              "    }\n",
              "    90% {\n",
              "      border-color: transparent;\n",
              "      border-bottom-color: var(--fill-color);\n",
              "    }\n",
              "  }\n",
              "</style>\n",
              "\n",
              "  <script>\n",
              "    async function quickchart(key) {\n",
              "      const quickchartButtonEl =\n",
              "        document.querySelector('#' + key + ' button');\n",
              "      quickchartButtonEl.disabled = true;  // To prevent multiple clicks.\n",
              "      quickchartButtonEl.classList.add('colab-df-spinner');\n",
              "      try {\n",
              "        const charts = await google.colab.kernel.invokeFunction(\n",
              "            'suggestCharts', [key], {});\n",
              "      } catch (error) {\n",
              "        console.error('Error during call to suggestCharts:', error);\n",
              "      }\n",
              "      quickchartButtonEl.classList.remove('colab-df-spinner');\n",
              "      quickchartButtonEl.classList.add('colab-df-quickchart-complete');\n",
              "    }\n",
              "    (() => {\n",
              "      let quickchartButtonEl =\n",
              "        document.querySelector('#df-8371141b-0152-414c-9eb8-19cd13fc1984 button');\n",
              "      quickchartButtonEl.style.display =\n",
              "        google.colab.kernel.accessAllowed ? 'block' : 'none';\n",
              "    })();\n",
              "  </script>\n",
              "</div>\n",
              "\n",
              "    </div>\n",
              "  </div>\n"
            ],
            "application/vnd.google.colaboratory.intrinsic+json": {
              "type": "dataframe",
              "variable_name": "combined_df"
            }
          },
          "metadata": {},
          "execution_count": 3
        }
      ]
    },
    {
      "cell_type": "code",
      "source": [
        "combined_df[\"genre\"].unique()"
      ],
      "metadata": {
        "colab": {
          "base_uri": "https://localhost:8080/"
        },
        "id": "Ns6ZI0JKBHs7",
        "outputId": "dca949c6-a3a5-433e-a328-720beae6db7d"
      },
      "execution_count": 4,
      "outputs": [
        {
          "output_type": "execute_result",
          "data": {
            "text/plain": [
              "array([\"['drama']\", \"['adventure', 'drama', 'romance']\",\n",
              "       \"['crime', 'drama']\", ...,\n",
              "       \"['action', 'animation', 'drama', 'scifi']\",\n",
              "       \"['crime', 'documentary', 'history', 'sportsandfitness']\",\n",
              "       \"['drama', 'romance', 'sportsandfitness']\"], dtype=object)"
            ]
          },
          "metadata": {},
          "execution_count": 4
        }
      ]
    },
    {
      "cell_type": "code",
      "source": [
        "combined_df.isnull().sum()"
      ],
      "metadata": {
        "id": "Ud1fxnX8Fkmp",
        "colab": {
          "base_uri": "https://localhost:8080/"
        },
        "outputId": "b27efca5-1324-4335-bdb5-ffae97cb4a98"
      },
      "execution_count": 5,
      "outputs": [
        {
          "output_type": "execute_result",
          "data": {
            "text/plain": [
              "id                          0\n",
              "title                       0\n",
              "audienceScore               0\n",
              "tomatoMeter                 0\n",
              "rating                      0\n",
              "ratingContents              0\n",
              "runtimeMinutes              0\n",
              "genre                       0\n",
              "originalLanguage            0\n",
              "director                    0\n",
              "writer                      0\n",
              "distributor                 0\n",
              "reviewId                    0\n",
              "reviewText                  0\n",
              "scoreSentiment              0\n",
              "originalScore_normalized    0\n",
              "dtype: int64"
            ]
          },
          "metadata": {},
          "execution_count": 5
        }
      ]
    },
    {
      "cell_type": "code",
      "source": [
        "combined_df.info()"
      ],
      "metadata": {
        "colab": {
          "base_uri": "https://localhost:8080/"
        },
        "id": "guCbzXHj4lIM",
        "outputId": "e0c04df8-7408-4346-d7ff-c3f3331ad1a4"
      },
      "execution_count": 6,
      "outputs": [
        {
          "output_type": "stream",
          "name": "stdout",
          "text": [
            "<class 'pandas.core.frame.DataFrame'>\n",
            "RangeIndex: 993876 entries, 0 to 993875\n",
            "Data columns (total 16 columns):\n",
            " #   Column                    Non-Null Count   Dtype  \n",
            "---  ------                    --------------   -----  \n",
            " 0   id                        993876 non-null  object \n",
            " 1   title                     993876 non-null  object \n",
            " 2   audienceScore             993876 non-null  float64\n",
            " 3   tomatoMeter               993876 non-null  float64\n",
            " 4   rating                    993876 non-null  object \n",
            " 5   ratingContents            993876 non-null  object \n",
            " 6   runtimeMinutes            993876 non-null  float64\n",
            " 7   genre                     993876 non-null  object \n",
            " 8   originalLanguage          993876 non-null  object \n",
            " 9   director                  993876 non-null  object \n",
            " 10  writer                    993876 non-null  object \n",
            " 11  distributor               993876 non-null  object \n",
            " 12  reviewId                  993876 non-null  float64\n",
            " 13  reviewText                993876 non-null  object \n",
            " 14  scoreSentiment            993876 non-null  object \n",
            " 15  originalScore_normalized  993876 non-null  float64\n",
            "dtypes: float64(5), object(11)\n",
            "memory usage: 121.3+ MB\n"
          ]
        }
      ]
    },
    {
      "cell_type": "code",
      "source": [
        "from sklearn.feature_extraction.text import TfidfVectorizer\n",
        "from sklearn.metrics.pairwise import linear_kernel\n",
        "from sklearn.metrics.pairwise import cosine_similarity"
      ],
      "metadata": {
        "id": "MmDwDjak5vUc"
      },
      "execution_count": 7,
      "outputs": []
    },
    {
      "cell_type": "code",
      "source": [
        "def preprocess_data(df):\n",
        "    df['combined_features'] = df.apply(lambda x: f\"{x['title']} {x['genre']} {x['director']} {x['writer']} {x['distributor']}\", axis=1)\n",
        "    return df"
      ],
      "metadata": {
        "id": "WK6DKj1X5vzZ"
      },
      "execution_count": 8,
      "outputs": []
    },
    {
      "cell_type": "code",
      "source": [
        "combined_df = preprocess_data(combined_df)"
      ],
      "metadata": {
        "id": "apa9mmPI51Xy"
      },
      "execution_count": 9,
      "outputs": []
    },
    {
      "cell_type": "code",
      "source": [
        "# TF-IDF Vectorization\n",
        "tfidf = TfidfVectorizer(stop_words='english', max_features=10000)  # Limit the number of features for efficiency\n",
        "tfidf_matrix = tfidf.fit_transform(combined_df['combined_features'])"
      ],
      "metadata": {
        "id": "NIiuxJd553Wg"
      },
      "execution_count": 10,
      "outputs": []
    },
    {
      "cell_type": "code",
      "source": [
        "# Use sparse matrix for cosine similarity computation\n",
        "cosine_sim = cosine_similarity(tfidf_matrix, dense_output=False)"
      ],
      "metadata": {
        "id": "ifxChYH959_e"
      },
      "execution_count": null,
      "outputs": []
    },
    {
      "cell_type": "code",
      "source": [
        "# Recommendations function\n",
        "def get_recommendations(title, cosine_sim=cosine_sim):\n",
        "    # Get the index of the movie that matches the title\n",
        "    idx = combined_df[combined_df['title'] == title].index[0]\n",
        "\n",
        "    # Get the pairwise similarity scores of all movies with that movie\n",
        "    sim_scores = cosine_sim[idx].toarray().flatten()\n",
        "\n",
        "    # Get the indices of the top 10 most similar movies\n",
        "    sim_indices = np.argsort(-sim_scores)[1:11]\n",
        "\n",
        "    # Return the top 10 most similar movies\n",
        "    return combined_df['title'].iloc[sim_indices]"
      ],
      "metadata": {
        "id": "Hz6bnBHG6D7R"
      },
      "execution_count": null,
      "outputs": []
    },
    {
      "cell_type": "code",
      "source": [
        "# Example usage\n",
        "recommendations = get_recommendations('The Matrix')\n",
        "print(recommendations)"
      ],
      "metadata": {
        "id": "gp5FeTNd6bCV"
      },
      "execution_count": null,
      "outputs": []
    }
  ]
}